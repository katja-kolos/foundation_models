{
 "cells": [
  {
   "cell_type": "code",
   "execution_count": 1,
   "id": "17dcf963",
   "metadata": {},
   "outputs": [],
   "source": [
    "# !pip install  -U -q git+https://github.com/huggingface/transformers.git git+https://github.com/huggingface/trl.git datasets bitsandbytes peft qwen-vl-utils wandb accelerate\n",
    "# Tested with transformers==4.47.0.dev0, trl==0.12.0.dev0, datasets==3.0.2, bitsandbytes==0.44.1, peft==0.13.2, qwen-vl-utils==0.0.8, wandb==0.18.5, accelerate==1.0.1"
   ]
  },
  {
   "cell_type": "code",
   "execution_count": 2,
   "id": "722723b7",
   "metadata": {},
   "outputs": [],
   "source": [
    "# !pip install -q torch==2.4.1+cu121 torchvision==0.19.1+cu121 torchaudio==2.4.1+cu121 --extra-index-url https://download.pytorch.org/whl/cu121"
   ]
  },
  {
   "cell_type": "code",
   "execution_count": 1,
   "id": "652984e6",
   "metadata": {},
   "outputs": [
    {
     "name": "stdout",
     "output_type": "stream",
     "text": [
      "CUDA memory cleared.\n",
      "Allocated memory: 0 bytes\n",
      "Cached memory: 0 bytes\n"
     ]
    }
   ],
   "source": [
    "import os\n",
    "os.environ[\"CUDA_VISIBLE_DEVICES\"] = \"0\"  # Use only GPU 0\n",
    "\n",
    "import torch\n",
    "\n",
    "# Clear all cached memory\n",
    "torch.cuda.empty_cache()\n",
    "\n",
    "# Reset all allocated memory\n",
    "torch.cuda.reset_peak_memory_stats()\n",
    "torch.cuda.reset_accumulated_memory_stats()\n",
    "\n",
    "# If you want to reset the default CUDA device, you can specify it again\n",
    "torch.cuda.set_device(0)  # Replace 0 with the desired GPU index if needed\n",
    "\n",
    "# Print memory stats to confirm\n",
    "print(\"CUDA memory cleared.\")\n",
    "print(f\"Allocated memory: {torch.cuda.memory_allocated()} bytes\")\n",
    "print(f\"Cached memory: {torch.cuda.memory_reserved()} bytes\")\n"
   ]
  },
  {
   "cell_type": "code",
   "execution_count": 2,
   "id": "aac56702",
   "metadata": {
    "scrolled": true
   },
   "outputs": [
    {
     "name": "stdout",
     "output_type": "stream",
     "text": [
      "Fri Jan 10 15:27:04 2025       \n",
      "+-----------------------------------------------------------------------------------------+\n",
      "| NVIDIA-SMI 560.35.05              Driver Version: 560.35.05      CUDA Version: 12.6     |\n",
      "|-----------------------------------------+------------------------+----------------------+\n",
      "| GPU  Name                 Persistence-M | Bus-Id          Disp.A | Volatile Uncorr. ECC |\n",
      "| Fan  Temp   Perf          Pwr:Usage/Cap |           Memory-Usage | GPU-Util  Compute M. |\n",
      "|                                         |                        |               MIG M. |\n",
      "|=========================================+========================+======================|\n",
      "|   0  NVIDIA RTX A6000               Off |   00000000:15:00.0 Off |                  Off |\n",
      "| 70%   80C    P0            118W /  300W |      18MiB /  49140MiB |      0%      Default |\n",
      "|                                         |                        |                  N/A |\n",
      "+-----------------------------------------+------------------------+----------------------+\n",
      "|   1  NVIDIA RTX A6000               Off |   00000000:2D:00.0 Off |                  Off |\n",
      "| 30%   39C    P8              9W /  300W |     121MiB /  49140MiB |      0%      Default |\n",
      "|                                         |                        |                  N/A |\n",
      "+-----------------------------------------+------------------------+----------------------+\n",
      "                                                                                         \n",
      "+-----------------------------------------------------------------------------------------+\n",
      "| Processes:                                                                              |\n",
      "|  GPU   GI   CI        PID   Type   Process name                              GPU Memory |\n",
      "|        ID   ID                                                               Usage      |\n",
      "|=========================================================================================|\n",
      "|    0   N/A  N/A      5670      G   /usr/lib/xorg/Xorg                              4MiB |\n",
      "|    1   N/A  N/A      5670      G   /usr/lib/xorg/Xorg                            107MiB |\n",
      "+-----------------------------------------------------------------------------------------+\n"
     ]
    }
   ],
   "source": [
    "!nvidia-smi"
   ]
  },
  {
   "cell_type": "code",
   "execution_count": 3,
   "id": "3f2dc944",
   "metadata": {},
   "outputs": [],
   "source": [
    "from transformers import logging\n",
    "\n",
    "logging.set_verbosity_error()  # Suppress warnings and info logs"
   ]
  },
  {
   "cell_type": "code",
   "execution_count": 4,
   "id": "f5ce1d77",
   "metadata": {},
   "outputs": [],
   "source": [
    "from datasets import load_dataset\n",
    "from qwen_vl_utils import process_vision_info\n",
    "import torch\n",
    "# from transformers import Qwen2VLForConditionalGeneration, Qwen2VLProcessor\n",
    "import gc\n",
    "import time\n",
    "import pandas as pd"
   ]
  },
  {
   "cell_type": "code",
   "execution_count": 5,
   "id": "4538df26",
   "metadata": {},
   "outputs": [],
   "source": [
    "# dataset_id = \"HuggingFaceM4/ChartQA\"\n",
    "dataset_id = \"derek-thomas/ScienceQA\"\n",
    "#TODO: DON'T FORGET TO HAVE THE ENTIRE DATASET\n",
    "train_dataset, eval_dataset, test_dataset = load_dataset(dataset_id, split=[\"train\", \"validation\", \"test\"])"
   ]
  },
  {
   "cell_type": "code",
   "execution_count": 6,
   "id": "92084e90",
   "metadata": {},
   "outputs": [],
   "source": [
    "from PIL import Image\n",
    "\n",
    "\n",
    "def get_question_text(problem):\n",
    "    question = problem['question']\n",
    "    return question\n",
    "\n",
    "\n",
    "def get_choice_text(probelm, options):\n",
    "    choices = probelm['choices']\n",
    "    choice_list = []\n",
    "    for i, c in enumerate(choices):\n",
    "        choice_list.append(\"({}) {}\".format(options[i], c))\n",
    "    choice_txt = \" \".join(choice_list)\n",
    "    return choice_txt\n",
    "\n",
    "\n",
    "def get_context_text(problem, use_caption):\n",
    "    txt_context = problem['hint']\n",
    "    img_context = problem['caption'] if use_caption else \"\"\n",
    "    context = \" \".join([txt_context, img_context]).strip()\n",
    "    if context == \"\":\n",
    "        context = \"N/A\"\n",
    "    return context\n",
    "\n",
    "\n",
    "def build_prompt(question_data, use_lecture=False, use_solution=False):\n",
    "    question = get_question_text(question_data)\n",
    "    choices = get_choice_text(question_data, [choice_num for choice_num in range(5)])\n",
    "    hint = get_context_text(question_data, False)\n",
    "    task = question_data['task']\n",
    "    input_prompt = f'Question: {question}\\n Task: {task}\\n Choices: {choices}\\n Hint: {hint}'\n",
    "    if use_lecture:\n",
    "        lecture = f'\\n Lecture: {question_data[\"lecture\"]}'\n",
    "        input_prompt += lecture\n",
    "    if use_solution and question_data[\"solution\"]:\n",
    "        solution = f'\\n Solution: {question_data[\"solution\"]}'\n",
    "        input_prompt += solution\n",
    "    return input_prompt\n",
    "\n",
    "def build_message(row):\n",
    "    row_input = build_prompt(row)\n",
    "    image = row['image'] if row['image'] else Image.new(\"RGB\", (224, 224), (0, 0, 0))\n",
    "    messages = [\n",
    "        {\n",
    "            \"role\": \"user\",\n",
    "            \"content\": [\n",
    "                {\n",
    "                    \"type\": \"image\",\n",
    "                    \"image\": image,\n",
    "                },\n",
    "                {\"type\": \"text\", \"text\": row_input },\n",
    "            ],\n",
    "        }\n",
    "    ]\n",
    "    return messages"
   ]
  },
  {
   "cell_type": "code",
   "execution_count": 7,
   "id": "ba6cf67e",
   "metadata": {},
   "outputs": [],
   "source": [
    "train_dataset = train_dataset.filter(lambda example: example['solution']!=\"\")\n",
    "eval_dataset = eval_dataset.filter(lambda example: example['solution']!=\"\")\n",
    "test_dataset = test_dataset.filter(lambda example: (example['solution']!=\"\") & (example['lecture']!=\"\"))"
   ]
  },
  {
   "cell_type": "code",
   "execution_count": 8,
   "id": "56b46fd6",
   "metadata": {},
   "outputs": [
    {
     "data": {
      "text/plain": [
       "Dataset({\n",
       "    features: ['image', 'question', 'choices', 'answer', 'hint', 'task', 'grade', 'subject', 'topic', 'category', 'skill', 'lecture', 'solution'],\n",
       "    num_rows: 11515\n",
       "})"
      ]
     },
     "execution_count": 8,
     "metadata": {},
     "output_type": "execute_result"
    }
   ],
   "source": [
    "train_dataset"
   ]
  },
  {
   "cell_type": "code",
   "execution_count": 9,
   "id": "837d65b1",
   "metadata": {},
   "outputs": [
    {
     "data": {
      "text/plain": [
       "Dataset({\n",
       "    features: ['image', 'question', 'choices', 'answer', 'hint', 'task', 'grade', 'subject', 'topic', 'category', 'skill', 'lecture', 'solution'],\n",
       "    num_rows: 3848\n",
       "})"
      ]
     },
     "execution_count": 9,
     "metadata": {},
     "output_type": "execute_result"
    }
   ],
   "source": [
    "eval_dataset"
   ]
  },
  {
   "cell_type": "code",
   "execution_count": 10,
   "id": "6d98b696",
   "metadata": {},
   "outputs": [
    {
     "data": {
      "text/plain": [
       "Dataset({\n",
       "    features: ['image', 'question', 'choices', 'answer', 'hint', 'task', 'grade', 'subject', 'topic', 'category', 'skill', 'lecture', 'solution'],\n",
       "    num_rows: 3172\n",
       "})"
      ]
     },
     "execution_count": 10,
     "metadata": {},
     "output_type": "execute_result"
    }
   ],
   "source": [
    "test_dataset"
   ]
  },
  {
   "cell_type": "code",
   "execution_count": 11,
   "id": "f623d312",
   "metadata": {},
   "outputs": [],
   "source": [
    "train_dataset_gemini = pd.read_csv('gemini_1_5_flash_output_train.csv', sep=\"\\t\")[['index', 'input', 'answer', 'explanation']]\n",
    "train_dataset_gemini['solution'] = train_dataset_gemini['explanation']\n",
    "del train_dataset_gemini['explanation']\n",
    "train_dataset_df = pd.DataFrame(train_dataset).reset_index()\n",
    "train_dataset_gemini = pd.merge(train_dataset_gemini, train_dataset_df[['index', 'image']], on='index')"
   ]
  },
  {
   "cell_type": "code",
   "execution_count": 12,
   "id": "6b033958",
   "metadata": {},
   "outputs": [],
   "source": [
    "# train_dataset_qwen_gemini = [(sample[1][\"input\"], sample[1][\"solution\"]) for sample in train_dataset_gemini.iterrows()]\n",
    "# train_dataset_qwen = [(build_message(sample), sample[\"solution\"]) for sample in train_dataset]\n",
    "# eval_dataset_qwen = [(build_message(sample), sample[\"solution\"]) for sample in eval_dataset]\n",
    "# test_dataset_qwen = [(build_message(sample), sample[\"solution\"]) for sample in test_dataset]"
   ]
  },
  {
   "cell_type": "code",
   "execution_count": 13,
   "id": "6f04c4a0",
   "metadata": {},
   "outputs": [],
   "source": [
    "train_dataset_paligemma_gemini = [(sample[1][\"input\"], sample[1][\"image\"], sample[1][\"solution\"]) for sample in train_dataset_gemini.iterrows()] # sample[\"input\"] is the output of build_prompt\n",
    "# train_dataset_paligemma = [(build_prompt(sample), sample[\"image\"], sample[\"solution\"]) for sample in train_dataset]\n",
    "eval_dataset_paligemma = [(build_prompt(sample), sample[\"image\"], sample[\"solution\"]) for sample in eval_dataset]\n",
    "test_dataset_paligemma = [(build_prompt(sample), sample[\"image\"], sample[\"solution\"]) for sample in test_dataset]"
   ]
  },
  {
   "cell_type": "code",
   "execution_count": 14,
   "id": "eeecba19",
   "metadata": {},
   "outputs": [
    {
     "data": {
      "text/plain": [
       "{'image': <PIL.PngImagePlugin.PngImageFile image mode=RGB size=750x429>,\n",
       " 'question': 'Which of these states is farthest north?',\n",
       " 'choices': ['West Virginia', 'Louisiana', 'Arizona', 'Oklahoma'],\n",
       " 'answer': 0,\n",
       " 'hint': '',\n",
       " 'task': 'closed choice',\n",
       " 'grade': 'grade2',\n",
       " 'subject': 'social science',\n",
       " 'topic': 'geography',\n",
       " 'category': 'Geography',\n",
       " 'skill': 'Read a map: cardinal directions',\n",
       " 'lecture': 'Maps have four cardinal directions, or main directions. Those directions are north, south, east, and west.\\nA compass rose is a set of arrows that point to the cardinal directions. A compass rose usually shows only the first letter of each cardinal direction.\\nThe north arrow points to the North Pole. On most maps, north is at the top of the map.',\n",
       " 'solution': 'To find the answer, look at the compass rose. Look at which way the north arrow is pointing. West Virginia is farthest north.'}"
      ]
     },
     "execution_count": 14,
     "metadata": {},
     "output_type": "execute_result"
    }
   ],
   "source": [
    "train_dataset[0]"
   ]
  },
  {
   "cell_type": "code",
   "execution_count": 15,
   "id": "9a326a4f",
   "metadata": {},
   "outputs": [
    {
     "name": "stdout",
     "output_type": "stream",
     "text": [
      "GPU allocated memory: 0.00 GB\n",
      "GPU reserved memory: 0.00 GB\n"
     ]
    }
   ],
   "source": [
    "def clear_memory():\n",
    "    # Delete variables if they exist in the current global scope\n",
    "    if \"inputs\" in globals():\n",
    "        del globals()[\"inputs\"]\n",
    "    if \"model\" in globals():\n",
    "        del globals()[\"model\"]\n",
    "    if \"processor\" in globals():\n",
    "        del globals()[\"processor\"]\n",
    "    if \"trainer\" in globals():\n",
    "        del globals()[\"trainer\"]\n",
    "    if \"peft_model\" in globals():\n",
    "        del globals()[\"peft_model\"]\n",
    "    if \"bnb_config\" in globals():\n",
    "        del globals()[\"bnb_config\"]\n",
    "    time.sleep(2)\n",
    "\n",
    "    # Garbage collection and clearing CUDA memory\n",
    "    gc.collect()\n",
    "    time.sleep(2)\n",
    "    torch.cuda.empty_cache()\n",
    "    torch.cuda.synchronize()\n",
    "    time.sleep(2)\n",
    "    gc.collect()\n",
    "    time.sleep(2)\n",
    "\n",
    "    print(f\"GPU allocated memory: {torch.cuda.memory_allocated() / 1024**3:.2f} GB\")\n",
    "    print(f\"GPU reserved memory: {torch.cuda.memory_reserved() / 1024**3:.2f} GB\")\n",
    "\n",
    "\n",
    "clear_memory()"
   ]
  },
  {
   "cell_type": "code",
   "execution_count": 16,
   "id": "fa32e457",
   "metadata": {},
   "outputs": [
    {
     "name": "stderr",
     "output_type": "stream",
     "text": [
      "2025-01-10 15:27:52.048393: I tensorflow/core/util/port.cc:153] oneDNN custom operations are on. You may see slightly different numerical results due to floating-point round-off errors from different computation orders. To turn them off, set the environment variable `TF_ENABLE_ONEDNN_OPTS=0`.\n",
      "2025-01-10 15:27:52.061650: E external/local_xla/xla/stream_executor/cuda/cuda_fft.cc:477] Unable to register cuFFT factory: Attempting to register factory for plugin cuFFT when one has already been registered\n",
      "WARNING: All log messages before absl::InitializeLog() is called are written to STDERR\n",
      "E0000 00:00:1736519272.078008  814371 cuda_dnn.cc:8310] Unable to register cuDNN factory: Attempting to register factory for plugin cuDNN when one has already been registered\n",
      "E0000 00:00:1736519272.082961  814371 cuda_blas.cc:1418] Unable to register cuBLAS factory: Attempting to register factory for plugin cuBLAS when one has already been registered\n",
      "2025-01-10 15:27:52.099901: I tensorflow/core/platform/cpu_feature_guard.cc:210] This TensorFlow binary is optimized to use available CPU instructions in performance-critical operations.\n",
      "To enable the following instructions: AVX2 AVX512F AVX512_VNNI FMA, in other operations, rebuild TensorFlow with the appropriate compiler flags.\n"
     ]
    },
    {
     "data": {
      "application/vnd.jupyter.widget-view+json": {
       "model_id": "4142ac2764c34b9f858d95357a556242",
       "version_major": 2,
       "version_minor": 0
      },
      "text/plain": [
       "Loading checkpoint shards:   0%|          | 0/2 [00:00<?, ?it/s]"
      ]
     },
     "metadata": {},
     "output_type": "display_data"
    }
   ],
   "source": [
    "from transformers import BitsAndBytesConfig\n",
    "from transformers import PaliGemmaProcessor, PaliGemmaForConditionalGeneration\n",
    "\n",
    "model_id = \"google/paligemma2-3b-pt-224\"\n",
    "\n",
    "# BitsAndBytesConfig int-4 config\n",
    "bnb_config = BitsAndBytesConfig(\n",
    "    load_in_4bit=True, bnb_4bit_use_double_quant=True, bnb_4bit_quant_type=\"nf4\", bnb_4bit_compute_dtype=torch.bfloat16\n",
    ")\n",
    "\n",
    "model = PaliGemmaForConditionalGeneration.from_pretrained(model_id, torch_dtype=torch.bfloat16, device_map=\"auto\")\n",
    "processor = PaliGemmaProcessor.from_pretrained(model_id)\n",
    "tokenizer = processor.tokenizer"
   ]
  },
  {
   "cell_type": "code",
   "execution_count": 17,
   "id": "2c8168e8",
   "metadata": {},
   "outputs": [
    {
     "name": "stdout",
     "output_type": "stream",
     "text": [
      "trainable params: 2,592,768 || all params: 3,034,835,184 || trainable%: 0.0854\n"
     ]
    }
   ],
   "source": [
    "from peft import LoraConfig, get_peft_model\n",
    "\n",
    "# Configure LoRA\n",
    "peft_config = LoraConfig(\n",
    "    lora_alpha=16,\n",
    "    lora_dropout=0.05,\n",
    "    r=8,\n",
    "    bias=\"none\",\n",
    "    target_modules=[\"q_proj\", \"v_proj\"],\n",
    "    task_type=\"CAUSAL_LM\",\n",
    ")\n",
    "\n",
    "# Apply PEFT model adaptation\n",
    "peft_model = get_peft_model(model, peft_config)\n",
    "\n",
    "# Print trainable parameters\n",
    "peft_model.print_trainable_parameters()"
   ]
  },
  {
   "cell_type": "code",
   "execution_count": 18,
   "id": "b36e7d78",
   "metadata": {},
   "outputs": [],
   "source": [
    "#TODO: SET EXPERIMENTS IN A LOOP AND MAKE IT RUN BEFORE THE FLIGHT\n",
    "\n",
    "### -> both qwen and paligemma for the normal \"label\" data and the gemini data please"
   ]
  },
  {
   "cell_type": "code",
   "execution_count": 19,
   "id": "11b519cb",
   "metadata": {},
   "outputs": [],
   "source": [
    "from trl import SFTConfig\n",
    "\n",
    "# Configure training arguments\n",
    "training_args = SFTConfig(\n",
    "    output_dir=\"LORA-Paligemma-KD-ScienceQA\",  # Directory to save the model\n",
    "    num_train_epochs=10,  # Number of training epochs\n",
    "    per_device_train_batch_size=4,  # Batch size for training\n",
    "    per_device_eval_batch_size=4,  # Batch size for evaluation\n",
    "    gradient_accumulation_steps=8,  # Steps to accumulate gradients\n",
    "    gradient_checkpointing=True,  # Enable gradient checkpointing for memory efficiency\n",
    "    # Optimizer and scheduler settings\n",
    "    optim=\"adamw_torch_fused\",  # Optimizer type\n",
    "    learning_rate=2e-4,  # Learning rate for training\n",
    "    lr_scheduler_type=\"constant\",  # Type of learning rate scheduler\n",
    "    # Logging and evaluation\n",
    "    logging_steps=10,  # Steps interval for logging\n",
    "    eval_steps=10,  # Steps interval for evaluation\n",
    "    eval_strategy=\"steps\",  # Strategy for evaluation\n",
    "    save_strategy=\"steps\",  # Strategy for saving the model\n",
    "    save_steps=20,  # Steps interval for saving\n",
    "    metric_for_best_model=\"eval_loss\",  # Metric to evaluate the best model\n",
    "    greater_is_better=False,  # Whether higher metric values are better\n",
    "    load_best_model_at_end=True,  # Load the best model after training\n",
    "    # Mixed precision and gradient settings\n",
    "    bf16=True,  # Use bfloat16 precision\n",
    "    tf32=True,  # Use TensorFloat-32 precision\n",
    "    max_grad_norm=0.3,  # Maximum norm for gradient clipping\n",
    "    warmup_ratio=0.03,  # Ratio of total steps for warmup\n",
    "    # Hub and reporting\n",
    "    push_to_hub=False,  # Whether to push model to Hugging Face Hub\n",
    "    report_to=\"wandb\",  # Reporting tool for tracking metrics\n",
    "    # Gradient checkpointing settings\n",
    "    gradient_checkpointing_kwargs={\"use_reentrant\": False},  # Options for gradient checkpointing\n",
    "    # Dataset configuration\n",
    "    dataset_text_field=\"\",  # Text field in dataset\n",
    "    dataset_kwargs={\"skip_prepare_dataset\": True},  # Additional dataset options\n",
    "    # max_seq_length=1024  # Maximum sequence length for input\n",
    ")\n",
    "\n",
    "training_args.remove_unused_columns = False  # Keep unused columns in dataset\n",
    "training_args.eval_strategy = \"epoch\"\n",
    "training_args.save_strategy = \"epoch\""
   ]
  },
  {
   "cell_type": "code",
   "execution_count": 20,
   "id": "f21ea4c2",
   "metadata": {},
   "outputs": [
    {
     "name": "stderr",
     "output_type": "stream",
     "text": [
      "\u001b[34m\u001b[1mwandb\u001b[0m: Using wandb-core as the SDK backend.  Please refer to https://wandb.me/wandb-core for more information.\n",
      "\u001b[34m\u001b[1mwandb\u001b[0m: Currently logged in as: \u001b[33mmatyashpr\u001b[0m. Use \u001b[1m`wandb login --relogin`\u001b[0m to force relogin\n"
     ]
    },
    {
     "data": {
      "text/html": [
       "Tracking run with wandb version 0.19.1"
      ],
      "text/plain": [
       "<IPython.core.display.HTML object>"
      ]
     },
     "metadata": {},
     "output_type": "display_data"
    },
    {
     "data": {
      "text/html": [
       "Run data is saved locally in <code>/lhome/matiada/foundation_models/wandb/run-20250110_152802-n8y1cjjc</code>"
      ],
      "text/plain": [
       "<IPython.core.display.HTML object>"
      ]
     },
     "metadata": {},
     "output_type": "display_data"
    },
    {
     "data": {
      "text/html": [
       "Syncing run <strong><a href='https://wandb.ai/matyashpr/LORA-Paligemma-KD-ScienceQA/runs/n8y1cjjc' target=\"_blank\">LORA-Paligemma-KD-ScienceQA</a></strong> to <a href='https://wandb.ai/matyashpr/LORA-Paligemma-KD-ScienceQA' target=\"_blank\">Weights & Biases</a> (<a href='https://wandb.me/developer-guide' target=\"_blank\">docs</a>)<br>"
      ],
      "text/plain": [
       "<IPython.core.display.HTML object>"
      ]
     },
     "metadata": {},
     "output_type": "display_data"
    },
    {
     "data": {
      "text/html": [
       " View project at <a href='https://wandb.ai/matyashpr/LORA-Paligemma-KD-ScienceQA' target=\"_blank\">https://wandb.ai/matyashpr/LORA-Paligemma-KD-ScienceQA</a>"
      ],
      "text/plain": [
       "<IPython.core.display.HTML object>"
      ]
     },
     "metadata": {},
     "output_type": "display_data"
    },
    {
     "data": {
      "text/html": [
       " View run at <a href='https://wandb.ai/matyashpr/LORA-Paligemma-KD-ScienceQA/runs/n8y1cjjc' target=\"_blank\">https://wandb.ai/matyashpr/LORA-Paligemma-KD-ScienceQA/runs/n8y1cjjc</a>"
      ],
      "text/plain": [
       "<IPython.core.display.HTML object>"
      ]
     },
     "metadata": {},
     "output_type": "display_data"
    },
    {
     "data": {
      "text/html": [
       "<button onClick=\"this.nextSibling.style.display='block';this.style.display='none';\">Display W&B run</button><iframe src='https://wandb.ai/matyashpr/LORA-Paligemma-KD-ScienceQA/runs/n8y1cjjc?jupyter=true' style='border:none;width:100%;height:420px;display:none;'></iframe>"
      ],
      "text/plain": [
       "<wandb.sdk.wandb_run.Run at 0x75017697f490>"
      ]
     },
     "execution_count": 20,
     "metadata": {},
     "output_type": "execute_result"
    }
   ],
   "source": [
    "import wandb\n",
    "\n",
    "wandb.init(\n",
    "    project=\"LORA-Paligemma-KD-ScienceQA\",  # change this\n",
    "    name=\"LORA-Paligemma-KD-ScienceQA\",  # change this\n",
    "    config=training_args,\n",
    ")"
   ]
  },
  {
   "cell_type": "code",
   "execution_count": 21,
   "id": "517bc7de",
   "metadata": {},
   "outputs": [],
   "source": [
    "# Create a data collator to encode text and image pairs\n",
    "def collate_fn_qwen(examples):\n",
    "    \n",
    "    # Get the texts and images, and apply the chat template\n",
    "    texts = [\n",
    "        processor.apply_chat_template(example, tokenize=False) for (example,_) in examples\n",
    "    ]  # Prepare texts for processing\n",
    "    image_inputs = [process_vision_info(example)[0] for (example,_) in examples]  # Process the images to extract inputs\n",
    "\n",
    "    # Tokenize the texts and process the images\n",
    "    batch = processor(\n",
    "        text=texts, images=image_inputs, padding=\"longest\", return_tensors=\"pt\"\n",
    "    ) \n",
    "    max_length = batch[\"input_ids\"].size(1)\n",
    "    example_labels = [label for (x, label) in examples]\n",
    "    labels = tokenizer(example_labels, padding=\"max_length\", truncation=True, max_length=max_length, return_tensors=\"pt\")[\"input_ids\"]\n",
    "    batch[\"labels\"] = labels  # Add labels to the batch\n",
    "    return batch  # Return the prepared batch"
   ]
  },
  {
   "cell_type": "code",
   "execution_count": 22,
   "id": "c5da36df",
   "metadata": {},
   "outputs": [],
   "source": [
    "# Create a data collator to encode text and image pairs\n",
    "def collate_fn_paligemma(examples):\n",
    "    texts = [text for (text, image, label) in examples]\n",
    "    image_inputs = [image.resize((224, 224)) if image else Image.new(\"RGB\", (224, 224), (0, 0, 0)) for (text, image, label) in examples]\n",
    "\n",
    "    # Tokenize the texts and process the images\n",
    "    batch = processor(\n",
    "        text=texts, images=image_inputs, padding=\"longest\", return_tensors=\"pt\"\n",
    "    )\n",
    "    max_length = batch[\"input_ids\"].size(1)\n",
    "    example_labels = [label for (text, image, label) in examples]\n",
    "    labels = processor.tokenizer(example_labels, padding=\"max_length\", truncation=True, max_length=max_length, return_tensors=\"pt\")[\"input_ids\"]\n",
    "    batch[\"labels\"] = labels  # Add labels to the batch\n",
    "    return batch  # Return the prepared batch"
   ]
  },
  {
   "cell_type": "code",
   "execution_count": 23,
   "id": "81a2e563",
   "metadata": {},
   "outputs": [
    {
     "name": "stderr",
     "output_type": "stream",
     "text": [
      "/tmp/ipykernel_814371/4271229405.py:4: FutureWarning: `tokenizer` is deprecated and removed starting from version 0.16.0 for `SFTTrainer.__init__`. Use `processing_class` instead.\n",
      "  trainer = SFTTrainer(\n",
      "/lhome/matiada/venv/lib/python3.10/site-packages/trl/trainer/sft_trainer.py:300: UserWarning: You passed a processing_class with `padding_side` not equal to `right` to the SFTTrainer. This might lead to some unexpected behaviour due to overflow issues when training a model in half-precision. You might consider adding `processing_class.padding_side = 'right'` to your code.\n",
      "  warnings.warn(\n"
     ]
    }
   ],
   "source": [
    "from trl import SFTTrainer\n",
    "\n",
    "\n",
    "trainer = SFTTrainer(\n",
    "    model=model,\n",
    "    args=training_args,\n",
    "    train_dataset=train_dataset_paligemma_gemini,\n",
    "    eval_dataset=eval_dataset_paligemma,\n",
    "    data_collator=collate_fn_paligemma,\n",
    "    peft_config=peft_config,\n",
    "    tokenizer=tokenizer,\n",
    ")"
   ]
  },
  {
   "cell_type": "code",
   "execution_count": null,
   "id": "fe552b9a",
   "metadata": {},
   "outputs": [
    {
     "name": "stderr",
     "output_type": "stream",
     "text": [
      "\u001b[34m\u001b[1mwandb\u001b[0m: \u001b[33mWARNING\u001b[0m The `run_name` is currently set to the same value as `TrainingArguments.output_dir`. If this was not intended, please specify a different run name by setting the `TrainingArguments.run_name` parameter.\n",
      "/lhome/matiada/venv/lib/python3.10/site-packages/transformers/models/paligemma/configuration_paligemma.py:134: FutureWarning: The `ignore_index` attribute is deprecated and will be removed in v4.47.\n",
      "  warnings.warn(\n",
      "/lhome/matiada/venv/lib/python3.10/site-packages/torch/utils/checkpoint.py:1399: FutureWarning: `torch.cpu.amp.autocast(args...)` is deprecated. Please use `torch.amp.autocast('cpu', args...)` instead.\n",
      "  with device_autocast_ctx, torch.cpu.amp.autocast(**cpu_autocast_kwargs), recompute_context:  # type: ignore[attr-defined]\n"
     ]
    },
    {
     "name": "stdout",
     "output_type": "stream",
     "text": [
      "{'loss': 164.4952, 'grad_norm': 303.2672424316406, 'learning_rate': 0.0002, 'epoch': 0.027787426189649182}\n",
      "{'loss': 55.4343, 'grad_norm': 51.8231086730957, 'learning_rate': 0.0002, 'epoch': 0.055574852379298365}\n",
      "{'loss': 37.5801, 'grad_norm': 26.382976531982422, 'learning_rate': 0.0002, 'epoch': 0.08336227856894755}\n",
      "{'loss': 29.9258, 'grad_norm': 43.43208694458008, 'learning_rate': 0.0002, 'epoch': 0.11114970475859673}\n",
      "{'loss': 25.3134, 'grad_norm': 44.328311920166016, 'learning_rate': 0.0002, 'epoch': 0.13893713094824592}\n",
      "{'loss': 25.0094, 'grad_norm': 1049.8385009765625, 'learning_rate': 0.0002, 'epoch': 0.1667245571378951}\n",
      "{'loss': 20.1799, 'grad_norm': 89.05477142333984, 'learning_rate': 0.0002, 'epoch': 0.1945119833275443}\n",
      "{'loss': 19.4979, 'grad_norm': 397.51605224609375, 'learning_rate': 0.0002, 'epoch': 0.22229940951719346}\n",
      "{'loss': 18.2733, 'grad_norm': 221.6843719482422, 'learning_rate': 0.0002, 'epoch': 0.25008683570684265}\n",
      "{'loss': 17.049, 'grad_norm': 107.1583480834961, 'learning_rate': 0.0002, 'epoch': 0.27787426189649184}\n",
      "{'loss': 15.6793, 'grad_norm': 21.84958839416504, 'learning_rate': 0.0002, 'epoch': 0.305661688086141}\n",
      "{'loss': 14.99, 'grad_norm': 45.950069427490234, 'learning_rate': 0.0002, 'epoch': 0.3334491142757902}\n",
      "{'loss': 14.0269, 'grad_norm': 76.40687561035156, 'learning_rate': 0.0002, 'epoch': 0.3612365404654394}\n",
      "{'loss': 13.6342, 'grad_norm': 171.28201293945312, 'learning_rate': 0.0002, 'epoch': 0.3890239666550886}\n",
      "{'loss': 12.9112, 'grad_norm': 71.64144897460938, 'learning_rate': 0.0002, 'epoch': 0.4168113928447378}\n",
      "{'loss': 12.5123, 'grad_norm': 85.39645385742188, 'learning_rate': 0.0002, 'epoch': 0.4445988190343869}\n",
      "{'loss': 12.7305, 'grad_norm': 70.79222869873047, 'learning_rate': 0.0002, 'epoch': 0.4723862452240361}\n",
      "{'loss': 12.541, 'grad_norm': 102.9637451171875, 'learning_rate': 0.0002, 'epoch': 0.5001736714136853}\n",
      "{'loss': 12.644, 'grad_norm': 97.47566223144531, 'learning_rate': 0.0002, 'epoch': 0.5279610976033345}\n",
      "{'loss': 12.4444, 'grad_norm': 50.63514709472656, 'learning_rate': 0.0002, 'epoch': 0.5557485237929837}\n",
      "{'loss': 12.25, 'grad_norm': 236.61399841308594, 'learning_rate': 0.0002, 'epoch': 0.5835359499826328}\n",
      "{'loss': 12.2091, 'grad_norm': 144.95082092285156, 'learning_rate': 0.0002, 'epoch': 0.611323376172282}\n",
      "{'loss': 12.2825, 'grad_norm': 164.93690490722656, 'learning_rate': 0.0002, 'epoch': 0.6391108023619312}\n",
      "{'loss': 12.4019, 'grad_norm': 145.80235290527344, 'learning_rate': 0.0002, 'epoch': 0.6668982285515804}\n",
      "{'loss': 12.0061, 'grad_norm': 87.80101776123047, 'learning_rate': 0.0002, 'epoch': 0.6946856547412296}\n",
      "{'loss': 12.03, 'grad_norm': 98.8744888305664, 'learning_rate': 0.0002, 'epoch': 0.7224730809308788}\n",
      "{'loss': 12.1663, 'grad_norm': 458.4030456542969, 'learning_rate': 0.0002, 'epoch': 0.7502605071205279}\n",
      "{'loss': 11.8519, 'grad_norm': 99.86626434326172, 'learning_rate': 0.0002, 'epoch': 0.7780479333101772}\n",
      "{'loss': 11.4356, 'grad_norm': 74.7306137084961, 'learning_rate': 0.0002, 'epoch': 0.8058353594998263}\n",
      "{'loss': 11.1165, 'grad_norm': 292.0076599121094, 'learning_rate': 0.0002, 'epoch': 0.8336227856894756}\n",
      "{'loss': 11.4173, 'grad_norm': 242.10247802734375, 'learning_rate': 0.0002, 'epoch': 0.8614102118791247}\n",
      "{'loss': 11.0553, 'grad_norm': 110.39256286621094, 'learning_rate': 0.0002, 'epoch': 0.8891976380687738}\n",
      "{'loss': 11.6438, 'grad_norm': 43.127716064453125, 'learning_rate': 0.0002, 'epoch': 0.9169850642584231}\n",
      "{'loss': 10.3167, 'grad_norm': 66.44087982177734, 'learning_rate': 0.0002, 'epoch': 0.9447724904480722}\n",
      "{'loss': 10.2872, 'grad_norm': 30.91427993774414, 'learning_rate': 0.0002, 'epoch': 0.9725599166377215}\n",
      "{'eval_loss': 2.6772096157073975, 'eval_runtime': 169.5879, 'eval_samples_per_second': 22.69, 'eval_steps_per_second': 5.673, 'epoch': 0.9975686002084057}\n"
     ]
    },
    {
     "name": "stderr",
     "output_type": "stream",
     "text": [
      "/lhome/matiada/venv/lib/python3.10/site-packages/transformers/models/paligemma/configuration_paligemma.py:134: FutureWarning: The `ignore_index` attribute is deprecated and will be removed in v4.47.\n",
      "  warnings.warn(\n",
      "/lhome/matiada/venv/lib/python3.10/site-packages/torch/utils/checkpoint.py:1399: FutureWarning: `torch.cpu.amp.autocast(args...)` is deprecated. Please use `torch.amp.autocast('cpu', args...)` instead.\n",
      "  with device_autocast_ctx, torch.cpu.amp.autocast(**cpu_autocast_kwargs), recompute_context:  # type: ignore[attr-defined]\n"
     ]
    },
    {
     "name": "stdout",
     "output_type": "stream",
     "text": [
      "{'loss': 11.4601, 'grad_norm': 123.55374145507812, 'learning_rate': 0.0002, 'epoch': 1.002778742618965}\n",
      "{'loss': 10.438, 'grad_norm': 22.997364044189453, 'learning_rate': 0.0002, 'epoch': 1.030566168808614}\n",
      "{'loss': 11.4983, 'grad_norm': 84.78887176513672, 'learning_rate': 0.0002, 'epoch': 1.0583535949982632}\n",
      "{'loss': 10.9902, 'grad_norm': 454.6382141113281, 'learning_rate': 0.0002, 'epoch': 1.0861410211879126}\n",
      "{'loss': 10.6446, 'grad_norm': 115.54830169677734, 'learning_rate': 0.0002, 'epoch': 1.1139284473775617}\n",
      "{'loss': 10.8894, 'grad_norm': 105.44744110107422, 'learning_rate': 0.0002, 'epoch': 1.1417158735672108}\n",
      "{'loss': 10.7305, 'grad_norm': 977.01171875, 'learning_rate': 0.0002, 'epoch': 1.16950329975686}\n",
      "{'loss': 12.2601, 'grad_norm': 513.6461791992188, 'learning_rate': 0.0002, 'epoch': 1.1972907259465093}\n",
      "{'loss': 11.1986, 'grad_norm': 66.26118469238281, 'learning_rate': 0.0002, 'epoch': 1.2250781521361584}\n",
      "{'loss': 10.511, 'grad_norm': 109.33609771728516, 'learning_rate': 0.0002, 'epoch': 1.2528655783258076}\n",
      "{'loss': 11.3043, 'grad_norm': 144.87551879882812, 'learning_rate': 0.0002, 'epoch': 1.2806530045154567}\n",
      "{'loss': 10.1307, 'grad_norm': 24.33908462524414, 'learning_rate': 0.0002, 'epoch': 1.3084404307051059}\n",
      "{'loss': 10.5015, 'grad_norm': 193.20372009277344, 'learning_rate': 0.0002, 'epoch': 1.3362278568947552}\n",
      "{'loss': 10.3758, 'grad_norm': 47.026527404785156, 'learning_rate': 0.0002, 'epoch': 1.3640152830844043}\n",
      "{'loss': 10.4724, 'grad_norm': 40.62406539916992, 'learning_rate': 0.0002, 'epoch': 1.3918027092740535}\n",
      "{'loss': 9.8508, 'grad_norm': 57.741092681884766, 'learning_rate': 0.0002, 'epoch': 1.4195901354637026}\n",
      "{'loss': 9.9037, 'grad_norm': 91.35272216796875, 'learning_rate': 0.0002, 'epoch': 1.4473775616533517}\n",
      "{'loss': 9.9407, 'grad_norm': 44.8427848815918, 'learning_rate': 0.0002, 'epoch': 1.475164987843001}\n",
      "{'loss': 10.0072, 'grad_norm': 121.8476333618164, 'learning_rate': 0.0002, 'epoch': 1.5029524140326502}\n",
      "{'loss': 9.7192, 'grad_norm': 52.20976638793945, 'learning_rate': 0.0002, 'epoch': 1.5307398402222994}\n",
      "{'loss': 9.895, 'grad_norm': 61.19813919067383, 'learning_rate': 0.0002, 'epoch': 1.5585272664119487}\n",
      "{'loss': 9.4989, 'grad_norm': 20.980432510375977, 'learning_rate': 0.0002, 'epoch': 1.5863146926015976}\n",
      "{'loss': 8.9835, 'grad_norm': 100.51255798339844, 'learning_rate': 0.0002, 'epoch': 1.614102118791247}\n",
      "{'loss': 9.5907, 'grad_norm': 476.6993103027344, 'learning_rate': 0.0002, 'epoch': 1.6418895449808961}\n",
      "{'loss': 9.3794, 'grad_norm': 63.12964630126953, 'learning_rate': 0.0002, 'epoch': 1.6696769711705453}\n",
      "{'loss': 9.5753, 'grad_norm': 511.3797912597656, 'learning_rate': 0.0002, 'epoch': 1.6974643973601946}\n",
      "{'loss': 10.0611, 'grad_norm': 72.15056610107422, 'learning_rate': 0.0002, 'epoch': 1.7252518235498437}\n"
     ]
    }
   ],
   "source": [
    "trainer.train()"
   ]
  },
  {
   "cell_type": "code",
   "execution_count": null,
   "id": "ed963065",
   "metadata": {},
   "outputs": [],
   "source": [
    "trainer.save_model()"
   ]
  }
 ],
 "metadata": {
  "kernelspec": {
   "display_name": "Python 3 (ipykernel)",
   "language": "python",
   "name": "python3"
  },
  "language_info": {
   "codemirror_mode": {
    "name": "ipython",
    "version": 3
   },
   "file_extension": ".py",
   "mimetype": "text/x-python",
   "name": "python",
   "nbconvert_exporter": "python",
   "pygments_lexer": "ipython3",
   "version": "3.10.12"
  }
 },
 "nbformat": 4,
 "nbformat_minor": 5
}
