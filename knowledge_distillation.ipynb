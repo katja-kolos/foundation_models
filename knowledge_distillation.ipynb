{
  "cells": [
    {
      "cell_type": "code",
      "source": [
        "from google.colab import drive\n",
        "drive.mount('/content/drive')"
      ],
      "metadata": {
        "id": "ykbGEISj9aab",
        "outputId": "03fcfea6-73b0-4c7c-a4cd-abd723367d15",
        "colab": {
          "base_uri": "https://localhost:8080/"
        }
      },
      "execution_count": 1,
      "outputs": [
        {
          "output_type": "stream",
          "name": "stdout",
          "text": [
            "Mounted at /content/drive\n"
          ]
        }
      ]
    },
    {
      "cell_type": "code",
      "source": [
        "import os\n",
        "os.chdir('/content/drive/MyDrive/foundation_models/knowledge_distillation')"
      ],
      "metadata": {
        "id": "evOrfZ1P9mS7"
      },
      "execution_count": 7,
      "outputs": []
    },
    {
      "cell_type": "markdown",
      "source": [
        "## Imports & Setup"
      ],
      "metadata": {
        "collapsed": false,
        "id": "ktdrhWnZ87XJ"
      }
    },
    {
      "cell_type": "code",
      "source": [
        "#!pip install datasets"
      ],
      "metadata": {
        "id": "FQSN0Sid95IT"
      },
      "execution_count": 11,
      "outputs": []
    },
    {
      "cell_type": "code",
      "source": [
        "!git clone https://github.com/katja-kolos/foundation_models.git"
      ],
      "metadata": {
        "id": "XCTxa_Tq9_5G",
        "outputId": "78c0c69b-1ada-414a-b4b0-21e6f09b181e",
        "colab": {
          "base_uri": "https://localhost:8080/"
        }
      },
      "execution_count": 10,
      "outputs": [
        {
          "output_type": "stream",
          "name": "stdout",
          "text": [
            "Cloning into 'foundation_models'...\n",
            "fatal: could not read Username for 'https://github.com': No such device or address\n"
          ]
        }
      ]
    },
    {
      "cell_type": "code",
      "execution_count": 12,
      "outputs": [
        {
          "output_type": "execute_result",
          "data": {
            "text/plain": [
              "<module 'soft_prompting' from '/content/drive/MyDrive/foundation_models/knowledge_distillation/soft_prompting.py'>"
            ]
          },
          "metadata": {},
          "execution_count": 12
        }
      ],
      "source": [
        "import pandas as pd\n",
        "import numpy as np\n",
        "import matplotlib.pyplot as plt\n",
        "import torch\n",
        "import re\n",
        "import ast\n",
        "from datasets import load_dataset\n",
        "from tqdm import tqdm\n",
        "import helpers\n",
        "import soft_prompting\n",
        "import importlib\n",
        "importlib.reload(helpers)\n",
        "importlib.reload(soft_prompting)"
      ],
      "metadata": {
        "id": "L6TP2Hzr87XM",
        "outputId": "2c09cfa8-ab7b-402a-de07-099e0163bc85",
        "colab": {
          "base_uri": "https://localhost:8080/"
        }
      }
    },
    {
      "cell_type": "code",
      "execution_count": 13,
      "outputs": [],
      "source": [
        "device = 'cuda' if torch.cuda.is_available() else 'cpu'\n",
        "\n",
        "# CONSTANTS\n",
        "NUM_EPOCHS_FT = 100\n",
        "NUM_EPOCHS_KD = 100\n",
        "BATCH_SIZE = 32"
      ],
      "metadata": {
        "id": "uvM8QDGl87XP"
      }
    },
    {
      "cell_type": "markdown",
      "source": [
        "## Get Data and preprocess it"
      ],
      "metadata": {
        "collapsed": false,
        "id": "pNEtAiGe87XP"
      }
    },
    {
      "cell_type": "code",
      "execution_count": null,
      "outputs": [],
      "source": [
        "### train data\n",
        "# data with label and image data\n",
        "df_train_label = pd.DataFrame(load_dataset('derek-thomas/ScienceQA', split='train'))\n",
        "df_train_label = df_train_label[df_train_label['solution'] != ''].reset_index()\n",
        "df_train_image = df_train_label['image']\n",
        "df_train_label['input'] = df_train_label.apply(lambda row: helpers.build_prompt(row)[0], axis=1)\n",
        "df_train_label[['input', 'answer', 'explanation']] = df_train_label[['input', 'answer', 'solution']]\n",
        "\n",
        "# data from Gemini for KD\n",
        "df_train_gemini = pd.read_csv('gemini_1_5_flash_output_train.csv', sep=\"\\t\")[['input', 'answer', 'explanation']]"
      ],
      "metadata": {
        "id": "gjuLrTbq87XQ"
      }
    },
    {
      "cell_type": "code",
      "execution_count": null,
      "outputs": [],
      "source": [
        "### val data\n",
        "df_val = pd.DataFrame(load_dataset('derek-thomas/ScienceQA', split='validation'))"
      ],
      "metadata": {
        "id": "izTEvl6i87XR"
      }
    },
    {
      "cell_type": "code",
      "execution_count": null,
      "outputs": [],
      "source": [
        "### Build DataLoader\n",
        "# ToDo"
      ],
      "metadata": {
        "id": "aZPpOsmK87XS"
      }
    },
    {
      "cell_type": "markdown",
      "source": [
        "## Functions for model training"
      ],
      "metadata": {
        "collapsed": false,
        "id": "NStdSFIf87XS"
      }
    },
    {
      "cell_type": "code",
      "execution_count": null,
      "outputs": [],
      "source": [
        "def train(dataloader_train, dataloader_val):\n",
        "    train_errors = []\n",
        "    val_errors = []\n",
        "    for epoch in tqdm(range(NUM_EPOCHS_FT)):\n",
        "        error = 0\n",
        "        num_samples = 0\n",
        "        # for X, y in dataloader_train:\n",
        "            # forward\n",
        "            # loss = ...\n",
        "            # loss.backward()\n",
        "            # optimizer.step()\n",
        "            # error += loss.item() * X.size(0)\n",
        "            # num_samples += X.size(0)\n",
        "        error /= num_samples\n",
        "        print(f'Error after epoch {epoch}: {error}')\n",
        "        train_errors.append((epoch, error))\n",
        "        if epoch % 10:\n",
        "            val_error = 0\n",
        "            num_samples\n",
        "            # for X, y in dataloader_val:\n",
        "                # forward\n",
        "                # loss = ...\n",
        "                # loss.backward()\n",
        "                # optimizer.step()\n",
        "                # val_error += loss.item() * X.size(0)\n",
        "                # num_samples += X.size(0)\n",
        "            val_error /= num_samples\n",
        "            print(f'Validation error after epoch {epoch}: {val_error}')\n",
        "            val_errors.append((epoch, val_error))\n",
        "    return train_errors_ft, val_error"
      ],
      "metadata": {
        "id": "mBOk6eSR87XT"
      }
    },
    {
      "cell_type": "code",
      "execution_count": null,
      "outputs": [],
      "source": [
        "def visualize_error(train_errors, val_errors):\n",
        "    plt.plot(zip(*train_errors), label=\"Train Error\", marker=\"o\", linestyle=\"-\")\n",
        "    plt.plot(zip(*val_errors), label=\"Train Error\", marker=\"o\", linestyle=\"-\")\n",
        "    plt.title(\"Train and Validation Error over Epochs\")\n",
        "    plt.xlabel(\"Epochs\")\n",
        "    plt.ylabel(\"Error\")\n",
        "    plt.show()"
      ],
      "metadata": {
        "id": "yKhEnvHx87XU"
      }
    },
    {
      "cell_type": "markdown",
      "source": [
        "## Soft prompting using labels"
      ],
      "metadata": {
        "collapsed": false,
        "id": "eoPYPMBq87XU"
      }
    },
    {
      "cell_type": "code",
      "execution_count": null,
      "outputs": [],
      "source": [
        "model = None # ToDo\n",
        "model_fine_tuned = soft_prompting.MultimodalSoftPrompting.from_pretrained(model)"
      ],
      "metadata": {
        "id": "Tcw_Fj0R87XV"
      }
    },
    {
      "cell_type": "code",
      "execution_count": null,
      "outputs": [],
      "source": [
        "train_errors_ft, val_errors_ft = train(dataloader_train_ft, dataloader_val_ft)"
      ],
      "metadata": {
        "id": "bBY-hEz687XV"
      }
    },
    {
      "cell_type": "code",
      "execution_count": null,
      "outputs": [],
      "source": [
        "visualize_error(train_errors_ft, val_errors_ft)"
      ],
      "metadata": {
        "id": "weNRYFe787XX"
      }
    },
    {
      "cell_type": "markdown",
      "source": [
        "## Knowledge Distillation"
      ],
      "metadata": {
        "collapsed": false,
        "id": "qw5SW6bP87XY"
      }
    },
    {
      "cell_type": "code",
      "execution_count": null,
      "outputs": [],
      "source": [
        "model = None # ToDo\n",
        "model_knowledge_distillation = soft_prompting.MultimodalSoftPrompting.from_pretrained(model)"
      ],
      "metadata": {
        "id": "ZV4PV0m087XY"
      }
    },
    {
      "cell_type": "code",
      "execution_count": null,
      "outputs": [],
      "source": [
        "train_errors_ft, val_errors_ft = train(dataloader_train_kd, dataloader_val_kd)"
      ],
      "metadata": {
        "id": "ZP04R7VX87XZ"
      }
    },
    {
      "cell_type": "code",
      "execution_count": null,
      "outputs": [],
      "source": [
        "visualize_error(train_errors_kd, val_errors_kd)"
      ],
      "metadata": {
        "id": "jJn7pB2b87XZ"
      }
    }
  ],
  "metadata": {
    "kernelspec": {
      "display_name": "Python 3",
      "language": "python",
      "name": "python3"
    },
    "language_info": {
      "codemirror_mode": {
        "name": "ipython",
        "version": 2
      },
      "file_extension": ".py",
      "mimetype": "text/x-python",
      "name": "python",
      "nbconvert_exporter": "python",
      "pygments_lexer": "ipython2",
      "version": "2.7.6"
    },
    "colab": {
      "provenance": []
    }
  },
  "nbformat": 4,
  "nbformat_minor": 0
}