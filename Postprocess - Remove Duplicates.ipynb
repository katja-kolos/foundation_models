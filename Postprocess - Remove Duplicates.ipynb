{
 "cells": [
  {
   "cell_type": "code",
   "execution_count": 23,
   "id": "9ccba3d2",
   "metadata": {},
   "outputs": [],
   "source": [
    "# postprocess pixtral\n",
    "import pandas as pd\n",
    "import csv\n",
    "import os"
   ]
  },
  {
   "cell_type": "code",
   "execution_count": 5,
   "id": "712302ce",
   "metadata": {},
   "outputs": [
    {
     "data": {
      "text/plain": [
       "['mistralai_pixtral-12b-2409_val_output_setting_1.csv',\n",
       " 'mistralai_pixtral-12b-2409_val_output_setting_3.csv',\n",
       " 'mistralai_pixtral-12b-2409_val_output_setting_2.csv',\n",
       " 'mistralai_pixtral-12b-2409_val_output_setting_4.csv']"
      ]
     },
     "execution_count": 5,
     "metadata": {},
     "output_type": "execute_result"
    }
   ],
   "source": [
    "parent_dir = \"benchmarking_val/outputs/mistralai_pixtral-12b-2409\"\n",
    "files = os.listdir(parent_dir)\n",
    "files = [x for x in files if x.startswith(\"mistralai_pixtral\")]\n",
    "files"
   ]
  },
  {
   "cell_type": "code",
   "execution_count": 24,
   "id": "106a6c5a",
   "metadata": {},
   "outputs": [],
   "source": [
    "# Save csv without duplicates\n",
    "def clean_from_duplicates(file_path): \n",
    "    file_path = os.path.join(parent_dir, file_path)\n",
    "    df = pd.read_csv(file_path, delimiter=\"\\t\")\n",
    "    print(f\"Loaded dataframe: {file_path} with {len(df)} rows.\")\n",
    "    df.drop_duplicates(inplace=True)\n",
    "    print(f\"Removed duplicate rows. Kept: {len(df)} rows.\")\n",
    "    df.to_csv(file_path, sep=\"\\t\", index=False, quoting=csv.QUOTE_ALL)"
   ]
  },
  {
   "cell_type": "code",
   "execution_count": 25,
   "id": "fe121a87",
   "metadata": {},
   "outputs": [
    {
     "name": "stdout",
     "output_type": "stream",
     "text": [
      "Loaded dataframe: benchmarking_val/outputs/mistralai_pixtral-12b-2409/mistralai_pixtral-12b-2409_val_output_setting_1.csv with 3218 rows.\n",
      "Removed duplicate rows. Kept: 3217 rows.\n",
      "Loaded dataframe: benchmarking_val/outputs/mistralai_pixtral-12b-2409/mistralai_pixtral-12b-2409_val_output_setting_3.csv with 3216 rows.\n",
      "Removed duplicate rows. Kept: 3216 rows.\n",
      "Loaded dataframe: benchmarking_val/outputs/mistralai_pixtral-12b-2409/mistralai_pixtral-12b-2409_val_output_setting_2.csv with 3218 rows.\n",
      "Removed duplicate rows. Kept: 3216 rows.\n",
      "Loaded dataframe: benchmarking_val/outputs/mistralai_pixtral-12b-2409/mistralai_pixtral-12b-2409_val_output_setting_4.csv with 3216 rows.\n",
      "Removed duplicate rows. Kept: 3216 rows.\n"
     ]
    }
   ],
   "source": [
    "for file in files: \n",
    "    clean_from_duplicates(file)"
   ]
  },
  {
   "cell_type": "code",
   "execution_count": 27,
   "id": "570f2d76",
   "metadata": {},
   "outputs": [
    {
     "name": "stdout",
     "output_type": "stream",
     "text": [
      "Loaded dataframe: benchmarking_val/outputs/mistralai_pixtral-12b-2409/mistralai_pixtral-12b-2409_val_output_setting_1.csv with 3217 rows.\n",
      "Removed duplicate rows. Kept: 3217 rows.\n"
     ]
    }
   ],
   "source": [
    "file_path = os.path.join(parent_dir, files[0])\n",
    "df = pd.read_csv(file_path, delimiter=\"\\t\")\n",
    "print(f\"Loaded dataframe: {file_path} with {len(df)} rows.\")\n",
    "df.drop_duplicates(inplace=True)\n",
    "print(f\"Removed duplicate rows. Kept: {len(df)} rows.\")"
   ]
  },
  {
   "cell_type": "code",
   "execution_count": 28,
   "id": "7ce73de8",
   "metadata": {},
   "outputs": [
    {
     "data": {
      "text/plain": [
       "203     2\n",
       "0       1\n",
       "2149    1\n",
       "2139    1\n",
       "2140    1\n",
       "       ..\n",
       "1075    1\n",
       "1076    1\n",
       "1077    1\n",
       "1078    1\n",
       "3215    1\n",
       "Name: idx, Length: 3216, dtype: int64"
      ]
     },
     "execution_count": 28,
     "metadata": {},
     "output_type": "execute_result"
    }
   ],
   "source": [
    "df.idx.value_counts()"
   ]
  },
  {
   "cell_type": "code",
   "execution_count": 29,
   "id": "129bd2f9",
   "metadata": {},
   "outputs": [
    {
     "data": {
      "text/html": [
       "<div>\n",
       "<style scoped>\n",
       "    .dataframe tbody tr th:only-of-type {\n",
       "        vertical-align: middle;\n",
       "    }\n",
       "\n",
       "    .dataframe tbody tr th {\n",
       "        vertical-align: top;\n",
       "    }\n",
       "\n",
       "    .dataframe thead th {\n",
       "        text-align: right;\n",
       "    }\n",
       "</style>\n",
       "<table border=\"1\" class=\"dataframe\">\n",
       "  <thead>\n",
       "    <tr style=\"text-align: right;\">\n",
       "      <th></th>\n",
       "      <th>idx</th>\n",
       "      <th>input</th>\n",
       "      <th>output</th>\n",
       "      <th>subject</th>\n",
       "    </tr>\n",
       "  </thead>\n",
       "  <tbody>\n",
       "    <tr>\n",
       "      <th>203</th>\n",
       "      <td>203</td>\n",
       "      <td>Question: How long is a soccer field?\\n Task: ...</td>\n",
       "      <td>{{\"answer\":\"115 meters\",\"solution\":\"The most l...</td>\n",
       "      <td>natural science</td>\n",
       "    </tr>\n",
       "    <tr>\n",
       "      <th>204</th>\n",
       "      <td>203</td>\n",
       "      <td>Question: How long is a soccer field?\\n Task: ...</td>\n",
       "      <td>{\"answer\": \"115 meters\", \"solution\": \"To bette...</td>\n",
       "      <td>natural science</td>\n",
       "    </tr>\n",
       "  </tbody>\n",
       "</table>\n",
       "</div>"
      ],
      "text/plain": [
       "     idx                                              input  \\\n",
       "203  203  Question: How long is a soccer field?\\n Task: ...   \n",
       "204  203  Question: How long is a soccer field?\\n Task: ...   \n",
       "\n",
       "                                                output          subject  \n",
       "203  {{\"answer\":\"115 meters\",\"solution\":\"The most l...  natural science  \n",
       "204  {\"answer\": \"115 meters\", \"solution\": \"To bette...  natural science  "
      ]
     },
     "execution_count": 29,
     "metadata": {},
     "output_type": "execute_result"
    }
   ],
   "source": [
    "df.query(\"idx==203\")"
   ]
  },
  {
   "cell_type": "code",
   "execution_count": 30,
   "id": "94fcd24d",
   "metadata": {},
   "outputs": [],
   "source": [
    "# Note: I manually modify the csv to only contain the second output (204). Both outputs are saved to a separate file for furter investigation"
   ]
  },
  {
   "cell_type": "code",
   "execution_count": null,
   "id": "a5e83e6f",
   "metadata": {},
   "outputs": [],
   "source": []
  }
 ],
 "metadata": {
  "kernelspec": {
   "display_name": "Python 3 (ipykernel)",
   "language": "python",
   "name": "python3"
  },
  "language_info": {
   "codemirror_mode": {
    "name": "ipython",
    "version": 3
   },
   "file_extension": ".py",
   "mimetype": "text/x-python",
   "name": "python",
   "nbconvert_exporter": "python",
   "pygments_lexer": "ipython3",
   "version": "3.10.2"
  }
 },
 "nbformat": 4,
 "nbformat_minor": 5
}
