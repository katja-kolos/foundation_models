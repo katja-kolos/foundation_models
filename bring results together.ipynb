{
 "cells": [
  {
   "cell_type": "code",
   "execution_count": 1,
   "id": "5c3518fb",
   "metadata": {},
   "outputs": [
    {
     "name": "stdout",
     "output_type": "stream",
     "text": [
      "Saved grouped_csvs/group_1.csv\n",
      "Saved grouped_csvs/group_2.csv\n",
      "Saved grouped_csvs/group_3.csv\n",
      "Saved grouped_csvs/group_4.csv\n"
     ]
    }
   ],
   "source": [
    "import os\n",
    "import pandas as pd\n",
    "\n",
    "# Define the parent folder\n",
    "parent_folder = 'benchmarking_val/metrics'\n",
    "\n",
    "# Define the postfixes to group by\n",
    "postfixes = ['_1', '_2', '_3', '_4']\n",
    "\n",
    "# Dictionary to hold dataframes for each postfix\n",
    "grouped_dataframes = {postfix: [] for postfix in postfixes}\n",
    "\n",
    "# Iterate over subfolders in the parent folder\n",
    "for folder in os.listdir(parent_folder):\n",
    "    folder_path = os.path.join(parent_folder, folder)\n",
    "    \n",
    "    # Ensure it's a directory\n",
    "    if os.path.isdir(folder_path):\n",
    "        # Iterate over files in the folder\n",
    "        for file in os.listdir(folder_path):\n",
    "            if file.endswith('.csv'):\n",
    "                for postfix in postfixes:\n",
    "                    if file.endswith(f\"{postfix}.csv\"):\n",
    "                        file_path = os.path.join(folder_path, file)\n",
    "                        # Read the CSV and append to the respective group\n",
    "                        try:\n",
    "                            df = pd.read_csv(file_path, delimiter=\"\\t\")\n",
    "                            grouped_dataframes[postfix].append(df)\n",
    "                        except Exception as e:\n",
    "                            print(f\"Error reading {file_path}: {e}\")\n",
    "\n",
    "# Combine and save grouped dataframes\n",
    "output_folder = 'grouped_csvs'\n",
    "os.makedirs(output_folder, exist_ok=True)\n",
    "\n",
    "for postfix, dfs in grouped_dataframes.items():\n",
    "    if dfs:  # Only process if there are dataframes for this postfix\n",
    "        combined_df = pd.concat(dfs, ignore_index=True)\n",
    "        output_file = os.path.join(output_folder, f\"group{postfix}.csv\")\n",
    "        combined_df.to_csv(output_file, index=False)\n",
    "        print(f\"Saved {output_file}\")\n"
   ]
  },
  {
   "cell_type": "code",
   "execution_count": null,
   "id": "5d2e9b80",
   "metadata": {},
   "outputs": [],
   "source": []
  }
 ],
 "metadata": {
  "kernelspec": {
   "display_name": "Python 3 (ipykernel)",
   "language": "python",
   "name": "python3"
  },
  "language_info": {
   "codemirror_mode": {
    "name": "ipython",
    "version": 3
   },
   "file_extension": ".py",
   "mimetype": "text/x-python",
   "name": "python",
   "nbconvert_exporter": "python",
   "pygments_lexer": "ipython3",
   "version": "3.10.2"
  }
 },
 "nbformat": 4,
 "nbformat_minor": 5
}
